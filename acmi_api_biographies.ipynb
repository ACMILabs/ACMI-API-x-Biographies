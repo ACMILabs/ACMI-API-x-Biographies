{
  "cells": [
    {
      "cell_type": "markdown",
      "metadata": {
        "id": "CppIQlPhhwhs"
      },
      "source": [
        "# ACMI Public API example matching internet biographies to Work creators\n",
        "\n",
        "Written by our [ACMI Labs](https://labs.acmi.net.au) team as an example use of our pubilc collection API: [api.acmi.net.au](https://api.acmi.net.au)\n",
        "\n",
        "Find the source on GitHub: https://github.com/ACMILabs/ACMI-API-x-Biographies\n"
      ]
    },
    {
      "cell_type": "code",
      "execution_count": null,
      "metadata": {
        "cellView": "form",
        "id": "-nnPDoDFCp6n"
      },
      "outputs": [],
      "source": [
        "# @title Licensed under the Mozilla Public License Version 2.0\n",
        "\n",
        "# Copyright (c) 2021 ACMI Labs\n",
        "\n",
        "# See the full license: https://github.com/ACMILabs/ACMI-API-x-Biographies/blob/main/LICENSE\n"
      ]
    },
    {
      "cell_type": "markdown",
      "metadata": {
        "id": "iNm1EBnXJUP6"
      },
      "source": [
        "# ACMI Public API\n",
        "\n",
        "Let's search the ACMI Public API for all creators with a certain `name`. Enter the `name` you'd like to match below right, or if you leave it blank let's search for all creators who were `directors`."
      ]
    },
    {
      "cell_type": "code",
      "execution_count": null,
      "metadata": {
        "id": "pqbvAiRzK3dJ"
      },
      "outputs": [],
      "source": [
        "#@title ACMI API\n",
        "#@markdown Add a firstname or lastname in the field below\n",
        "\n",
        "import requests\n",
        "\n",
        "# Search for ACMI creators with 'Simon' in their name\n",
        "acmi_search_query = '' #@param {type:\"string\"}\n",
        "acmi_search_query = acmi_search_query.lower()\n",
        "creators = set()\n",
        "\n",
        "if acmi_search_query:\n",
        "    search_response = requests.get(\n",
        "        'https://api.acmi.net.au/search/',\n",
        "        params={\n",
        "            'query': acmi_search_query,\n",
        "            'field': 'creators_primary.name',\n",
        "        },\n",
        "    ).json()\n",
        "\n",
        "    for result in search_response['results']:\n",
        "        for creator in result.get('creators_primary'):\n",
        "            if acmi_search_query in creator.get('name').lower():\n",
        "                creators.add(creator.get('name'))\n",
        "\n",
        "    print(\n",
        "        f'Found {len(creators)} ACMI creators with {acmi_search_query} '\n",
        "        f'in their name: {creators}'\n",
        "    )\n",
        "else:\n",
        "    # Let's search for all directors instead\n",
        "    search_response = requests.get(\n",
        "        'https://api.acmi.net.au/search/',\n",
        "        params={\n",
        "            'query': 'director',\n",
        "            'field': 'creators_primary.role',\n",
        "        },\n",
        "    ).json()\n",
        "\n",
        "    for result in search_response['results']:\n",
        "        for creator in result.get('creators_primary'):\n",
        "            if 'director' in creator.get('role').lower():\n",
        "                creators.add(creator.get('name'))\n",
        "\n",
        "    print(f'Found {len(creators)} ACMI creators who are directors: {creators}')"
      ]
    },
    {
      "cell_type": "markdown",
      "metadata": {},
      "source": [
        "# Wikipedia API\n",
        "\n",
        "Next let's loop through the ACMI creators we found and try and match them to biographies from Wikipedia."
      ]
    },
    {
      "cell_type": "code",
      "execution_count": null,
      "metadata": {},
      "outputs": [],
      "source": [
        "# Search Wikipedia for information on each person\n",
        "for creator in creators:\n",
        "    wikipedia_search_response = requests.get(\n",
        "        'https://en.wikipedia.org/w/api.php',\n",
        "        params={\n",
        "            'action': 'query',\n",
        "            'format': 'json',\n",
        "            'titles': creator,\n",
        "            'prop': 'info|extracts',\n",
        "            'exintro': True,\n",
        "            'explaintext': True,\n",
        "            'inprop': 'url',\n",
        "        },\n",
        "    ).json()\n",
        "    try:\n",
        "        wikipedia_page = next(\n",
        "            iter(wikipedia_search_response['query']['pages'].values()),\n",
        "        )\n",
        "        print(\n",
        "            f'Wikipedia data for {creator}: {wikipedia_page[\"fullurl\"]}\\n'\n",
        "            f'Title: {wikipedia_page[\"title\"]}\\n'\n",
        "            f'Extract: {wikipedia_page[\"extract\"]}'\n",
        "        )\n",
        "    except KeyError:\n",
        "        print(f'Sorry, no data from Wikipedia for: {creator}')"
      ]
    }
  ],
  "metadata": {
    "accelerator": "GPU",
    "colab": {
      "collapsed_sections": [],
      "machine_shape": "hm",
      "name": "ACMI Public API x VQGAN+CLIP (with pooling)",
      "private_outputs": true,
      "provenance": []
    },
    "kernelspec": {
      "display_name": "Python 3",
      "name": "python3"
    },
    "language_info": {
      "name": "python"
    }
  },
  "nbformat": 4,
  "nbformat_minor": 2
}
